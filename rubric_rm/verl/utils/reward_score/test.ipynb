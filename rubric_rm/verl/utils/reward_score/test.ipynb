{
 "cells": [
  {
   "cell_type": "code",
   "execution_count": 1,
   "id": "80f477f7",
   "metadata": {},
   "outputs": [
    {
     "name": "stdout",
     "output_type": "stream",
     "text": [
      "elapsed: 2.3015635013580322\n"
     ]
    }
   ],
   "source": [
    "import time, random, string, re\n",
    "from lm_as_judge_evidence_rubric_classify_separate_reward import lm_as_judge_match  # your file\n",
    "\n",
    "dummy = \"\\n\".join([\"X\"*40000])  # ~40 k chars\n",
    "START = time.time()\n",
    "for _ in range(4096):\n",
    "    lm_as_judge_match(None, dummy, \"model_a\", None)\n",
    "print(\"elapsed:\", time.time()-START)   # often 15‑30 s\n"
   ]
  },
  {
   "cell_type": "code",
   "execution_count": null,
   "id": "36fe8c52",
   "metadata": {},
   "outputs": [],
   "source": []
  }
 ],
 "metadata": {
  "kernelspec": {
   "display_name": "Python 3",
   "language": "python",
   "name": "python3"
  },
  "language_info": {
   "codemirror_mode": {
    "name": "ipython",
    "version": 3
   },
   "file_extension": ".py",
   "mimetype": "text/x-python",
   "name": "python",
   "nbconvert_exporter": "python",
   "pygments_lexer": "ipython3",
   "version": "3.11.11"
  }
 },
 "nbformat": 4,
 "nbformat_minor": 5
}
