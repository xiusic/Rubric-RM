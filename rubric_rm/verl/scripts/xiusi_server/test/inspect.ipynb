{
 "cells": [
  {
   "cell_type": "code",
   "execution_count": 2,
   "id": "e4bc15f1",
   "metadata": {},
   "outputs": [],
   "source": [
    "from datasets import load_dataset \n",
    "\n",
    "ds1 = load_dataset(\"gaotang/filtered_sky_code_8k_math_10k_rubric_reasoning_test\", split=\"train\")\n",
    "ds2 = load_dataset(\"gaotang/filtered_sky_code_8k_math_10k_rubric_evidence_classify_weight_rest_0420_shuffle_test\", split=\"train\")"
   ]
  },
  {
   "cell_type": "code",
   "execution_count": 3,
   "id": "4e71961b",
   "metadata": {},
   "outputs": [
    {
     "data": {
      "text/plain": [
       "{'context_messages': [{'content': 'Please act as an impartial judge and evaluate the quality of the responses provided by two AI Chatbots to the Client question displayed below. \\n\\n[Client Question]\\nIdentify the data structure used to represent a specific tree and implement a method to traverse this tree both Breadth first and Depth first. A Tree with 8 nodes including A as the root node, connected to B, C, D, E, F, G, and H as child nodes, demonstrating the hierarchical nature. Depth first traversal should consider left-most children first.\\n\\n[The Start of Chatbot A\\'s Response]\\nIn this case, we can use the adjacency list method to represent the tree. Here is a Python program that performs both Breadth-first and Depth-first traversal:\\n\\n```python\\nfrom collections import deque\\n\\n\\ntree = {\\n    \\'A\\' : [\\'B\\', \\'C\\', \\'D\\', \\'E\\', \\'F\\', \\'G\\', \\'H\\'],\\n    \\'B\\' : [],\\n    \\'C\\' : [],\\n    \\'D\\' : [],\\n    \\'E\\' : [],\\n    \\'F\\' : [],\\n    \\'G\\' : [],\\n    \\'H\\' : []\\n}\\n\\ndef BFS(graph, root):\\n    visited = []\\n    queue = deque([root])\\n    \\n    while queue:\\n        node = queue.popleft() - 1\\n        if node not in visited:\\n            visited.append(node)\\n            queue.extend(graph[node])\\n    \\n    return visited\\n\\ndef DFS(graph, root, visited = None):\\n    if visited is None:\\n        visited = []\\n    visited.append(root - 1)\\n    \\n    for node in graph[root]:\\n        if node not in visited:\\n            DFS(graph, node + 1, visited)\\n    \\n    return visited\\n\\n\\n\\nprint(\"Breadth First Search: \", BFS(tree, \\'A\\'))\\nprint(\"Depth First Search: \", DFS(tree, \\'A\\'))\\n```\\n\\nThe above code defines a simple tree with \\'A\\' as the root node and other alphabets as the child nodes.\\nWe have two functions - BFS and DFS.\\n\\nIn BFS we start by adding the root node to the queue. Then we start a while loop which will keep running until all the nodes are visited. Within the loop, we remove nodes from the queue, add them to the visited list and then add their children to the queue. This way we explore level by level.\\n\\nIn DFS we start with the root node, we then recursively explore each branch of the tree to its full depth. The base case is determined by if the next node is in the visited set. Each new node visited is added to the visited set.\\n\\nRunning the DFS and BFS, it prints out the order the nodes are visited for both approaches. All nodes are considered here because it\\'s an Unweighted and Undirected tree. In the case of a more complex tree, with weighted edges and/or a Directed approach, the BFS and DFS code would need adjustments.\\n[The End of Chatbot A\\'s Response]\\n\\n[The Start of Chatbot B\\'s Response]\\nIn this case, we can use the adjacency list method to represent the tree. Here is a Python program that performs both Breadth-first and Depth-first traversal:\\n\\n```python\\nfrom collections import deque\\n\\n# Defining the tree data structure\\ntree = {\\n    \\'A\\' : [\\'B\\', \\'C\\', \\'D\\', \\'E\\', \\'F\\', \\'G\\', \\'H\\'],\\n    \\'B\\' : [],\\n    \\'C\\' : [],\\n    \\'D\\' : [],\\n    \\'E\\' : [],\\n    \\'F\\' : [],\\n    \\'G\\' : [],\\n    \\'H\\' : []\\n}\\n\\ndef BFS(graph, root):\\n    visited = []\\n    queue = deque([root])\\n    \\n    while queue:\\n        node = queue.popleft()\\n        if node not in visited:\\n            visited.append(node)\\n            queue.extend(graph[node])\\n    \\n    return visited\\n\\ndef DFS(graph, root, visited = None):\\n    if visited is None:\\n        visited = []\\n    visited.append(root)\\n    \\n    for node in graph[root]:\\n        if node not in visited:\\n            DFS(graph, node, visited)\\n    \\n    return visited\\n\\n# Testing out the traversal functions:\\n\\nprint(\"Breadth First Search: \", BFS(tree, \\'A\\'))\\nprint(\"Depth First Search: \", DFS(tree, \\'A\\'))\\n```\\n\\nThe above code defines a simple tree with \\'A\\' as the root node and other alphabets as the child nodes.\\nWe have two functions - BFS and DFS.\\n\\nIn BFS we start by adding the root node to the queue. Then we start a while loop which will keep running until all the nodes are visited. Within the loop, we remove nodes from the queue, add them to the visited list and then add their children to the queue. This way we explore level by level.\\n\\nIn DFS we start with the root node, we then recursively explore each branch of the tree to its full depth. The base case is determined by if the next node is in the visited set. Each new node visited is added to the visited set.\\n\\nRunning the DFS and BFS, it prints out the order the nodes are visited for both approaches. All nodes are considered here because it\\'s an Unweighted and Undirected tree. In the case of a more complex tree, with weighted edges and/or a Directed approach, the BFS and DFS code would need adjustments.\\n[The End of Chatbot B\\'s Response]\\n\\nOutput your final verdict at last by strictly following this format: \\'<answer>[[A]]</answer>\\' if Chatbot A is better, or \\'<answer>[[B]]</answer>\\' if Chatbot B is better.',\n",
       "   'role': 'user'}],\n",
       " 'winner': 'model_b'}"
      ]
     },
     "execution_count": 3,
     "metadata": {},
     "output_type": "execute_result"
    }
   ],
   "source": [
    "ds1[0]"
   ]
  },
  {
   "cell_type": "code",
   "execution_count": null,
   "id": "01f74a60",
   "metadata": {},
   "outputs": [
    {
     "data": {
      "text/plain": [
       "{'context_messages': [{'content': \"Please act as an impartial judge and evaluate the quality of the responses provided by two AI Chatbots to the Client's question displayed below.\\n\\nFirst, classify the task into one of two categories: <type>Reasoning</type> or <type>Chat</type>.\\n- Use <type>Reasoning</type> for tasks that involve math, coding, or require domain knowledge, multi-step inference, logical deduction, or combining information to reach a conclusion.\\n- Use <type>Chat</type> for tasks that involve open-ended or factual conversation, stylistic rewrites, safety questions, or general helpfulness requests without deep reasoning.\\n\\nIf the task is Reasoning:\\n1. Solve the Client's question yourself and present your final answer within <solution>...</solution> tags.\\n2. Evaluate the two Chatbot responses based on correctness, completeness, and reasoning quality, referencing your own solution.\\n3. Include your evaluation inside <eval>...</eval> tags, quoting or summarizing the Chatbots using the following tags:\\n   - <quote_A>...</quote_A> for direct quotes from Chatbot A\\n   - <summary_A>...</summary_A> for paraphrases of Chatbot A\\n   - <quote_B>...</quote_B> for direct quotes from Chatbot B\\n   - <summary_B>...</summary_B> for paraphrases of Chatbot B\\n4. End with your final judgment in the format: <answer>[[A]]</answer> or <answer>[[B]]</answer>\\n\\nIf the task is Chat:\\n1. Generate evaluation criteria (rubric) tailored to the Client's question and context, enclosed in <rubric>...</rubric> tags.\\n2. Assign weights to each rubric item based on their relative importance.\\n3. Inside <rubric>, include a <justify>...</justify> section explaining why you chose those rubric criteria and weights.\\n4. Compare both Chatbot responses according to the rubric.\\n5. Provide your evaluation inside <eval>...</eval> tags, using <quote_A>, <summary_A>, <quote_B>, and <summary_B> as described above.\\n6. End with your final judgment in the format: <answer>[[A]]</answer> or <answer>[[B]]</answer>\\n\\nImportant Notes:\\n- Be objective and base your evaluation only on the content of the responses.\\n- Do not let response order, length, or Chatbot names affect your judgment.\\n- Follow the response format strictly depending on the task type.\\n\\nYour output must follow one of the two formats below:\\n\\nFor Reasoning:\\n<type>Reasoning</type>\\n\\n<solution> your own solution for the problem </solution>\\n\\n<eval>\\n  include direct comparisons supported by <quote_A>...</quote_A> or <summary_A>...</summary_A>, and <quote_B>...</quote_B>, or <summary_B>...</summary_B>\\n</eval>\\n\\n<answer>[[A/B]]</answer>\\n\\nFor Chat:\\n<type>Chat</type>\\n\\n<rubric>\\n  detailed rubric items\\n  <justify> justification for the rubric </justify>\\n</rubric>\\n\\n<eval>\\n  include direct comparisons supported by <quote_A>...</quote_A> or <summary_A>...</summary_A>, and <quote_B>...</quote_B>, or <summary_B>...</summary_B> tags\\n</eval>\\n\\n<answer>[[A/B]]</answer>\",\n",
       "   'role': 'system'},\n",
       "  {'content': '[Client Question]\\nimport pygame\\nimport random\\n\\npygame.init()\\n\\nscreen = pygame.display.set_mode((800, 600))\\nclock = pygame.time.Clock()\\n\\ncolor = [(255, 0, 0), (0, 255, 0), (0, 0, 255), (255, 255, 255)]\\n\\nclass Button:\\n    def __init__(self, x, y, width, height, color):\\n        self.rect = pygame.Rect(x, y, width, height)\\n        self.color = color\\n\\n    def draw(self):\\n        pygame.draw.rect(screen, self.color, self.rect)\\n\\n    def is_clicked(self, mouse_pos):\\n        if self.rect.collidepoint(mouse_pos):\\n            return True\\n        else:\\n            return False\\n\\nred_button = Button(100, 100, 50, 50, color[0])\\ngreen_button = Button(200, 100, 50, 50, color[1])\\nblue_button = Button(300, 100, 50, 50, color[2])\\nwhite_button = Button(400, 100, 50, 50, color[3])\\n\\nrunning = True\\nwhile running:\\n    for event in pygame.event.get():\\n        if event.type == pygame.QUIT:\\n            running = False\\n        elif event.type == pygame.MOUSEBUTTONDOWN:\\n            mouse_pos = event.pos\\n            if red_button.is_clicked(mouse_pos):\\n                print(\"Red button clicked\")\\n            elif green_button.is_clicked(mouse_pos):\\n                print(\"Green button clicked\")\\n            elif blue_button.is_clicked(mouse_pos):\\n                print(\"Blue button clicked\")\\n            elif white_button.is_clicked(mouse_pos):\\n                print(\"White button clicked\")\\n\\n    screen.fill((0, 0, 0))\\n    red_button.draw()\\n    green_button.draw()\\n    blue_button.draw()\\n    white_button.draw()\\n    pygame.display.flip()\\n    clock.tick(60)\\n\\npygame.quit()\\n\\nWhat is the best way of making this code to run faster and be more efficient?\\n\\n[The Start of Chatbot A\\'s Response]\\nHere are some suggestions to improve the performance and efficiency of your code:\\n\\n1. **Group buttons together**: Instead of having separate button objects, consider creating a `ButtonGroup` class that stores all buttons. This can simplify event handling and reduce repetition.\\n\\n2. **Use a more efficient way to handle events**: Instead of checking each button individually in the event loop, you can use a dictionary to map buttons to their respective actions.\\n\\n3. **Use a game loop with a fixed time step**: Pygame\\'s `clock.tick(60)` limits the game to 60 frames per second, but it doesn\\'t account for the time spent on other operations. Consider using a fixed time step to ensure consistent gameplay.\\n\\n4. **Avoid unnecessary computations**: In the `Button` class, `is_clicked` method is called for each button on every mouse click. Consider caching the mouse position and reusing it for all buttons.\\n\\n5. **Minimize function calls**: The `draw` method of each button is called every frame, even if the button\\'s state hasn\\'t changed. Consider using a dirty flag to indicate when a button needs to be redrawn.\\n\\nHere\\'s an example of how you can implement these suggestions:\\n\\n```python\\nimport pygame\\nimport random\\n\\npygame.init()\\n\\nscreen = pygame.display.set_mode((800, 600))\\nclock = pygame.time.Clock()\\n\\ncolor = [(255, 0, 0), (0, 255, 0), (0, 0, 255), (255, 255, 255)]\\n\\nclass Button:\\n    def __init__(self, x, y, width, height, color, action=None):\\n        self.rect = pygame.Rect(x, y, width, height)\\n        self.color = color\\n        self.action = action\\n        self.dirty = True\\n\\n    def draw(self):\\n        if self.dirty:\\n            pygame.draw.rect(screen, self.color, self.rect)\\n            self.dirty = False\\n\\nclass ButtonGroup:\\n    def __init__(self):\\n        self.buttons = []\\n\\n    def add_button(self, button):\\n        self.buttons.append(button)\\n\\n    def handle_event(self, event):\\n        if event.type == pygame.MOUSEBUTTONDOWN:\\n            for button in self.buttons:\\n                if button.rect.collidepoint(event.pos):\\n                    if button.action:\\n                        button.action()\\n\\n    def draw(self):\\n        for button in self.buttons:\\n            button.draw()\\n\\ndef button_action(color):\\n    print(f\"{[\\'Red\\', \\'Green\\', \\'Blue\\', \\'White\\'][color]} button clicked\")\\n\\nbutton_group = ButtonGroup()\\nbutton_group.add_button(Button(100, 100, 50, 50, color[0], lambda: button_action(0)))\\nbutton_group.add_button(Button(200, 100, 50, 50, color[1], lambda: button_action(1)))\\nbutton_group.add_button(Button(300, 100, 50, 50, color[2], lambda: button_action(2)))\\nbutton_group.add_button(Button(400, 100, 50, 50, color[3], lambda: button_action(3)))\\n\\nrunning = True\\nwhile running:\\n    for event in pygame.event.get():\\n        if event.type == pygame.QUIT:\\n            running = False\\n        button_group.handle_event(event)\\n\\n    screen.fill((0, 0, 0))\\n    button_group.draw()\\n    pygame.display.flip()\\n    clock.tick(60)\\n\\npygame.quit()\\n```\\n\\nThis code is more efficient and scalable, and it\\'s easier to add new buttons or modify the existing ones.\\n[The End of Chatbot A\\'s Response]\\n\\n[The Start of Chatbot B\\'s Response]\\nThe code provided appears to be well-structured and efficient. However, here are a few suggestions to further improve performance:\\n\\n1.  **Use a List to Store Buttons**: Instead of defining each button individually, store them in a list. This will simplify the drawing and event-handling logic.\\n\\n2.  **Simplify Button Click Detection**: Combine the button click detection logic into a single loop that iterates over the list of buttons.\\n\\n3.  **Use a Constant for Frame Rate**: Define a constant for the frame rate instead of hardcoding it.\\n\\nHere\\'s an updated version of the code incorporating these suggestions:\\n\\n```python\\nimport pygame\\nimport random\\n\\n# Constants\\nWIDTH, HEIGHT = 800, 600\\nFPS = 60\\n\\n# Colors\\nCOLORS = [(255, 0, 0), (0, 255, 0), (0, 0, 255), (255, 255, 255)]\\n\\nclass Button:\\n    def __init__(self, x, y, width, height, color):\\n        self.rect = pygame.Rect(x, y, width, height)\\n        self.color = color\\n\\n    def draw(self):\\n        pygame.draw.rect(screen, self.color, self.rect)\\n\\n    def is_clicked(self, mouse_pos):\\n        return self.rect.collidepoint(mouse_pos)\\n\\ndef main():\\n    pygame.init()\\n    global screen\\n    screen = pygame.display.set_mode((WIDTH, HEIGHT))\\n    clock = pygame.time.Clock()\\n\\n    # Create a list of buttons\\n    buttons = [\\n        Button(100, 100, 50, 50, COLORS[0]),\\n        Button(200, 100, 50, 50, COLORS[1]),\\n        Button(300, 100, 50, 50, COLORS[2]),\\n        Button(400, 100, 50, 50, COLORS[3]),\\n    ]\\n\\n    running = True\\n    while running:\\n        for event in pygame.event.get():\\n            if event.type == pygame.QUIT:\\n                running = False\\n            elif event.type == pygame.MOUSEBUTTONDOWN:\\n                mouse_pos = event.pos\\n                # Iterate over buttons to detect click\\n                for i, button in enumerate(buttons):\\n                    if button.is_clicked(mouse_pos):\\n                        print(f\"Button {i + 1} clicked\")\\n\\n        screen.fill((0, 0, 0))\\n        # Draw all buttons\\n        for button in buttons:\\n            button.draw()\\n        pygame.display.flip()\\n        clock.tick(FPS)\\n\\n    pygame.quit()\\n\\nif __name__ == \"__main__\":\\n    main()\\n```\\n\\nThis updated code simplifies the button creation and event-handling logic, making it more efficient and easier to maintain.\\n[The End of Chatbot B\\'s Response]',\n",
       "   'role': 'user'}],\n",
       " 'winner': 'model_b'}"
      ]
     },
     "execution_count": 4,
     "metadata": {},
     "output_type": "execute_result"
    }
   ],
   "source": [
    "ds2[0]"
   ]
  },
  {
   "cell_type": "code",
   "execution_count": 6,
   "id": "07f2a7a3",
   "metadata": {},
   "outputs": [
    {
     "data": {
      "text/plain": [
       "2871"
      ]
     },
     "execution_count": 6,
     "metadata": {},
     "output_type": "execute_result"
    }
   ],
   "source": [
    "len(ds2[0]['context_messages'][0]['content'])"
   ]
  },
  {
   "cell_type": "code",
   "execution_count": 7,
   "id": "7efb7090",
   "metadata": {},
   "outputs": [
    {
     "name": "stdout",
     "output_type": "stream",
     "text": [
      "3\n",
      "Hey                       :   0.0000 s\n"
     ]
    }
   ],
   "source": [
    "import time\n",
    "from contextlib import contextmanager\n",
    "\n",
    "@contextmanager\n",
    "def timer(label: str):\n",
    "    \"\"\"Print wall‑clock run‑time of the wrapped block.\"\"\"\n",
    "    t0 = time.perf_counter()          # high‑resolution clock\n",
    "    yield\n",
    "    dt = time.perf_counter() - t0\n",
    "    print(f\"{label:<25} : {dt:8.4f} s\")\n",
    "\n",
    "with timer(\"Hey\"):\n",
    "    print(\"3\")"
   ]
  },
  {
   "cell_type": "code",
   "execution_count": 8,
   "id": "6f3df9b9",
   "metadata": {},
   "outputs": [],
   "source": [
    "# fast_format.py  (final)\n",
    "import re\n",
    "from functools import lru_cache\n",
    "\n",
    "# ---------- tiny helpers ----------\n",
    "_WS   = r'\\s*'                  # optional whitespace\n",
    "_TEXT = r'.*?\\S.*?'             # at least one non‑space char somewhere inside\n",
    "\n",
    "# ---------- pre‑compiled pieces ----------\n",
    "CHAT_TYPE_RE   = re.compile(r'<type>' + _WS + r'Chat'      + _WS + r'</type>', re.I)\n",
    "REASON_TYPE_RE = re.compile(r'<type>' + _WS + r'Reasoning' + _WS + r'</type>', re.I)\n",
    "\n",
    "RUBRIC_RE      = re.compile(r'<rubric>.*?<justify>' + _TEXT + r'</justify>.*?</rubric>',\n",
    "                            re.I | re.S)\n",
    "SOLUTION_RE    = re.compile(r'<solution>' + _TEXT + r'</solution>', re.I | re.S)\n",
    "\n",
    "# (<quote_A>|<summary_A>) and (<quote_B>|<summary_B>) in *either* order\n",
    "EVAL_RE = re.compile(\n",
    "    r'<eval>.*?(?:'\n",
    "    r'(?:(?:<quote_A>|<summary_A>).+?(?:<quote_B>|<summary_B>))'\n",
    "    r'|'\n",
    "    r'(?:(?:<quote_B>|<summary_B>).+?(?:<quote_A>|<summary_A>))'\n",
    "    r')'\n",
    "    r'.*?</eval>',\n",
    "    re.I | re.S\n",
    ")\n",
    "\n",
    "ANSWER_RE = re.compile(\n",
    "    r'<answer>' + _WS + r'(?:\\S.*?\\S|\\S)' + _WS + r'</answer>',\n",
    "    re.I | re.S\n",
    ")\n",
    "\n",
    "# ---------- main predicate ----------\n",
    "@lru_cache(maxsize=4096)\n",
    "def check_task_format(text: str) -> bool:\n",
    "    \"\"\"\n",
    "    Return True if *text* is a valid Chat‑ or Reasoning‑task snippet,\n",
    "    otherwise False.  All regexes are linear‑time and compiled once.\n",
    "    \"\"\"\n",
    "    if CHAT_TYPE_RE.search(text):\n",
    "        return (RUBRIC_RE.search(text) and\n",
    "                EVAL_RE.search(text)   and\n",
    "                ANSWER_RE.search(text))\n",
    "\n",
    "    if REASON_TYPE_RE.search(text):\n",
    "        return (SOLUTION_RE.search(text) and\n",
    "                EVAL_RE.search(text)    and\n",
    "                ANSWER_RE.search(text))\n",
    "\n",
    "    return False\n",
    "\n",
    "\n",
    "def format_reward(s: str) -> float:\n",
    "    \"\"\"Return 1.0 for a well‑formed task, else 0.0 (cheap wrapper).\"\"\"\n",
    "    return 1.0 if check_task_format(s) else 0.0\n"
   ]
  },
  {
   "cell_type": "code",
   "execution_count": 9,
   "id": "1182def1",
   "metadata": {},
   "outputs": [
    {
     "name": "stdout",
     "output_type": "stream",
     "text": [
      "<re.Match object; span=(135, 155), match='<answer> z </answer>'>\n",
      "<re.Match object; span=(128, 146), match='<answer>Y</answer>'>\n",
      "False\n"
     ]
    }
   ],
   "source": [
    "if __name__ == \"__main__\":\n",
    "    sample_chat = \"\"\"\n",
    "    <type>Chat</type>\n",
    "    <rubric><justify>something</justify></rubric>\n",
    "    <eval><quote_B>x</quote_B><quote_A>y</quote_A></eval>\n",
    "    <answer> z </answer>\n",
    "    \"\"\"\n",
    "    sample_reason = \"\"\"\n",
    "    <type>Reasoning</type>\n",
    "    <solution>foo</solution>\n",
    "    <eval><summary_A>α</summary_A> ... <quote_B>β</quote_B></eval>\n",
    "    <answer>Y</answer>\n",
    "    \"\"\"\n",
    "    for t in (sample_chat, sample_reason, \"<type>Other</type>\"):\n",
    "        print(check_task_format(t))\n",
    "# → True, True, False\n"
   ]
  }
 ],
 "metadata": {
  "kernelspec": {
   "display_name": "Python 3",
   "language": "python",
   "name": "python3"
  },
  "language_info": {
   "codemirror_mode": {
    "name": "ipython",
    "version": 3
   },
   "file_extension": ".py",
   "mimetype": "text/x-python",
   "name": "python",
   "nbconvert_exporter": "python",
   "pygments_lexer": "ipython3",
   "version": "3.11.11"
  }
 },
 "nbformat": 4,
 "nbformat_minor": 5
}
