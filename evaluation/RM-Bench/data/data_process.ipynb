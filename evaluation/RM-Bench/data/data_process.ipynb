{
 "cells": [
  {
   "cell_type": "code",
   "execution_count": 1,
   "metadata": {},
   "outputs": [],
   "source": [
    "import json"
   ]
  },
  {
   "cell_type": "code",
   "execution_count": 3,
   "metadata": {},
   "outputs": [],
   "source": [
    "with open(\"total_dataset.json\") as json_file:\n",
    "    data = json.load(json_file)"
   ]
  },
  {
   "cell_type": "code",
   "execution_count": 5,
   "metadata": {},
   "outputs": [
    {
     "data": {
      "text/plain": [
       "{'id': 'chat/100',\n",
       " 'prompt': 'I like to host guests at my home from time to time, and I am gathering  recipes of different dishes and drinks to keep things interesting. I am interested in trying some Indonesian dishes. Can you give me a recipe for Tahu Gejrot Cirebon?',\n",
       " 'chosen': ['Tahu Gejrot Cirebon recipe: Fry tofu cubes, make a sweet and tangy sauce with water, vinegar, sugar, garlic, chili, sweet soy sauce, and salt, then pour the sauce over the tofu for a delicious Indonesian dish.',\n",
       "  \"Certainly! Tahu Gejrot Cirebon is a popular Indonesian dish from the city of Cirebon, West Java. It consists of fried tofu served with a sweet and tangy sauce. Here's a simple recipe for you to try:\\n\\nTahu Gejrot Cirebon Recipe\\n\\nIngredients:\\n\\nFor the Tofu:\\n10-12 pieces of firm tofu (about 400 grams)\\nOil for frying\\n\\nFor the Sauce:\\n100 ml water\\n100 ml vinegar (preferably white vinegar)\\n100 grams granulated sugar\\n2 cloves garlic, minced\\n1 red chili, thinly sliced (optional, for a bit of heat)\\n1 tablespoon sweet soy sauce (kecap manis)\\n1 teaspoon salt\\n1 teaspoon cornstarch mixed with 2 tablespoons water (optional, for thickening)\\n\\nInstructions:\\n\\nPrepare the Tofu:\\nCut the tofu into bite-sized cubes.\\nHeat oil in a frying pan over medium heat.\\nDeep fry the tofu cubes until they are golden brown and crispy. Drain on paper towels to remove excess oil.\\n\\nMake the Sauce:\\nIn a saucepan, combine the water, vinegar, and sugar. Bring to a boil over medium heat, stirring until the sugar is completely dissolved.\\nAdd the minced garlic, sliced red chili (if using), sweet soy sauce, and salt. Stir well to combine.\\nIf you prefer a thicker sauce, add the cornstarch mixture to the saucepan and stir continuously until the sauce thickens to your liking.\\nRemove from heat and let the sauce cool slightly.\\n\\nAssemble the Tahu Gejrot:\\nPlace the fried tofu cubes in a serving dish.\\nPour the prepared sauce over the tofu, ensuring each piece is well coated.\\nOptionally, you can garnish with additional sliced red chili or chopped green onions for added color and flavor.\\n\\nServe:\\nTahu Gejrot Cirebon is best enjoyed immediately while the tofu is still crispy and the sauce is fresh. Serve as a snack, appetizer, or light meal.\\n\\nTips:\\nYou can adjust the\",\n",
       "  \"Certainly! Tahu Gejrot Cirebon is a popular Indonesian dish from the city of Cirebon, West Java. It consists of fried tofu served with a sweet and tangy sauce. Here's a simple recipe for you to try:\\n\\n### Tahu Gejrot Cirebon Recipe\\n\\n#### Ingredients:\\n\\n**For the Tofu:**\\n- 10-12 pieces of firm tofu (about 400 grams)\\n- Oil for frying\\n\\n**For the Sauce:**\\n- 100 ml water\\n- 100 ml vinegar (preferably white vinegar)\\n- 100 grams granulated sugar\\n- 2 cloves garlic, minced\\n- 1 red chili, thinly sliced (optional, for a bit of heat)\\n- 1 tablespoon sweet soy sauce (kecap manis)\\n- 1 teaspoon salt\\n- 1 teaspoon cornstarch mixed with 2 tablespoons water (optional, for thickening)\\n\\n#### Instructions:\\n\\n1. **Prepare the Tofu:**\\n   - Cut the tofu into bite-sized cubes.\\n   - Heat oil in a frying pan over medium heat.\\n   - Deep fry the tofu cubes until they are golden brown and crispy. Drain on paper towels to remove excess oil.\\n\\n2. **Make the Sauce:**\\n   - In a saucepan, combine the water, vinegar, and sugar. Bring to a boil over medium heat, stirring until the sugar is completely dissolved.\\n   - Add the minced garlic, sliced red chili (if using), sweet soy sauce, and salt. Stir well to combine.\\n   - If you prefer a thicker sauce, add the cornstarch mixture to the saucepan and stir continuously until the sauce thickens to your liking.\\n   - Remove from heat and let the sauce cool slightly.\\n\\n3. **Assemble the Tahu Gejrot:**\\n   - Place the fried tofu cubes in a serving dish.\\n   - Pour the prepared sauce over the tofu, ensuring each piece is well coated.\\n   - Optionally, you can garnish with additional sliced red chili or chopped green onions for added color and flavor.\\n\\n4. **Serve:**\\n   - Tahu Gejrot Cirebon is best enjoyed immediately while the tofu is still crispy and the sauce is fresh. Serve as a snack, appetizer, or light meal.\\n\\n### Tips:\\n- You can adjust the\"],\n",
       " 'rejected': ['Tahu Gejrot Cirebon recipe: Fry tofu cubes, make a sweet and tangy sauce with water, vinegar, sugar, garlic, chili, soy sauce, and salt, then pour the sauce over the tofu for a delicious Indonesian dish.',\n",
       "  \"Tahu Gejrot Cirebon Recipe: A Delightful Indonesian Treat\\n\\nIf you're looking to add a burst of flavor to your hosting repertoire, Tahu Gejrot Cirebon is an excellent choice. This Indonesian dish is not only easy to prepare but also incredibly flavorful, making it a hit with both locals and visitors alike. Here's a step-by-step guide to creating this delightful dish:\\n\\nIngredients:\\nTofu: 1 block (about 300g)\\nWater: 1/2 cup\\nVinegar: 2 tablespoons\\nSugar: 3 tablespoons\\nGarlic: 2 cloves, minced\\nChili: 1-2 red chilies, finely chopped (adjust to taste)\\nSoy Sauce: 1 tablespoon\\nSalt: A pinch\\nOil: For frying\\n\\nInstructions:\\n\\nPrepare the Tofu:\\nCut the tofu into small, bite-sized cubes. The size is up to you, but around 1-inch cubes work well.\\n\\nFry the Tofu:\\nHeat oil in a frying pan over medium heat. Once the oil is hot, carefully add the tofu cubes and fry until they are golden brown and crispy. This should take about 5-7 minutes.\\nRemove the tofu from the oil and place it on a paper towel to drain any excess oil.\\n\\nMake the Sauce:\\nIn a small saucepan, combine the water, vinegar, sugar, minced garlic, chopped chili, soy sauce, and salt.\\nBring the mixture to a gentle boil, stirring occasionally to ensure the sugar dissolves completely.\\nReduce the heat and let the sauce simmer for about 5 minutes, allowing the flavors to meld together.\\n\\nCombine the Tofu and Sauce:\\nOnce the sauce has thickened slightly, remove it from the heat.\\nPour the hot sauce over the fried tofu cubes, ensuring each piece is well-coated.\\n\\nServe:\\nTransfer the Tahu Gejrot Cirebon to a serving dish and garnish with a sprinkle of chopped green onions or cilantro if desired.\\nServe immediately while the tofu is still crispy and the sauce is warm.\",\n",
       "  \"**Tahu Gejrot Cirebon Recipe: A Delightful Indonesian Treat**\\n\\nIf you're looking to add a burst of flavor to your hosting repertoire, Tahu Gejrot Cirebon is an excellent choice. This Indonesian dish is not only easy to prepare but also incredibly flavorful, making it a hit with both locals and visitors alike. Here's a step-by-step guide to creating this delightful dish:\\n\\n### Ingredients:\\n- **Tofu**: 1 block (about 300g)\\n- **Water**: 1/2 cup\\n- **Vinegar**: 2 tablespoons\\n- **Sugar**: 3 tablespoons\\n- **Garlic**: 2 cloves, minced\\n- **Chili**: 1-2 red chilies, finely chopped (adjust to taste)\\n- **Soy Sauce**: 1 tablespoon\\n- **Salt**: A pinch\\n- **Oil**: For frying\\n\\n### Instructions:\\n\\n1. **Prepare the Tofu**:\\n   - Cut the tofu into small, bite-sized cubes. The size is up to you, but around 1-inch cubes work well.\\n\\n2. **Fry the Tofu**:\\n   - Heat oil in a frying pan over medium heat. Once the oil is hot, carefully add the tofu cubes and fry until they are golden brown and crispy. This should take about 5-7 minutes.\\n   - Remove the tofu from the oil and place it on a paper towel to drain any excess oil.\\n\\n3. **Make the Sauce**:\\n   - In a small saucepan, combine the water, vinegar, sugar, minced garlic, chopped chili, soy sauce, and salt.\\n   - Bring the mixture to a gentle boil, stirring occasionally to ensure the sugar dissolves completely.\\n   - Reduce the heat and let the sauce simmer for about 5 minutes, allowing the flavors to meld together.\\n\\n4. **Combine the Tofu and Sauce**:\\n   - Once the sauce has thickened slightly, remove it from the heat.\\n   - Pour the hot sauce over the fried tofu cubes, ensuring each piece is well-coated.\\n\\n5. **Serve**:\\n   - Transfer the Tahu Gejrot Cirebon to a serving dish and garnish with a sprinkle of chopped green onions or cilantro if desired.\\n   - Serve immediately while the tofu is still crispy and the sauce is warm.\\n\\n\"],\n",
       " 'domain': 'chat'}"
      ]
     },
     "execution_count": 5,
     "metadata": {},
     "output_type": "execute_result"
    }
   ],
   "source": [
    "data[0]"
   ]
  },
  {
   "cell_type": "code",
   "execution_count": 6,
   "metadata": {},
   "outputs": [],
   "source": [
    "import copy \n",
    "swap_data = [ ]\n",
    "\n",
    "for item in data:\n",
    "    new_data = copy.deepcopy(item) \n",
    "    new_data['rejected'][0] = copy.deepcopy(item['rejected'][1])\n",
    "    new_data['rejected'][1] = copy.deepcopy(item['rejected'][2])\n",
    "    new_data['rejected'][2] = copy.deepcopy(item['rejected'][0]) \n",
    "    swap_data.append(new_data)\n",
    "\n",
    "with open(\"total_dataset_2.json\", \"w\") as outfile:\n",
    "    json.dump(swap_data, outfile, indent=4)"
   ]
  },
  {
   "cell_type": "code",
   "execution_count": 9,
   "metadata": {},
   "outputs": [],
   "source": [
    "import copy \n",
    "swap_data2 = [ ]\n",
    "\n",
    "for item in data:\n",
    "    new_data = copy.deepcopy(item) \n",
    "    new_data['rejected'][0] = copy.deepcopy(item['rejected'][2])\n",
    "    new_data['rejected'][1] = copy.deepcopy(item['rejected'][0])\n",
    "    new_data['rejected'][2] = copy.deepcopy(item['rejected'][1]) \n",
    "    swap_data2.append(new_data)\n",
    "\n",
    "with open(\"total_dataset_3.json\", \"w\") as outfile:\n",
    "    json.dump(swap_data2, outfile, indent=4)"
   ]
  },
  {
   "cell_type": "code",
   "execution_count": 1,
   "metadata": {},
   "outputs": [],
   "source": [
    "import json \n"
   ]
  },
  {
   "cell_type": "code",
   "execution_count": null,
   "metadata": {},
   "outputs": [],
   "source": []
  }
 ],
 "metadata": {
  "kernelspec": {
   "display_name": "base",
   "language": "python",
   "name": "python3"
  },
  "language_info": {
   "codemirror_mode": {
    "name": "ipython",
    "version": 3
   },
   "file_extension": ".py",
   "mimetype": "text/x-python",
   "name": "python",
   "nbconvert_exporter": "python",
   "pygments_lexer": "ipython3",
   "version": "3.12.7"
  }
 },
 "nbformat": 4,
 "nbformat_minor": 2
}
