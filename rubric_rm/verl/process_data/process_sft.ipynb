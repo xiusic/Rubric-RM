{
 "cells": [
  {
   "cell_type": "code",
   "execution_count": 16,
   "metadata": {},
   "outputs": [],
   "source": [
    "from datasets import load_dataset, concatenate_datasets, Dataset\n",
    "from copy import deepcopy"
   ]
  },
  {
   "cell_type": "code",
   "execution_count": 4,
   "metadata": {},
   "outputs": [],
   "source": [
    "ds = load_dataset(\"gaotang/sky_v02_filtered_2_5kcode_18kmath_math_code_sky\")\n"
   ]
  },
  {
   "cell_type": "code",
   "execution_count": 21,
   "metadata": {},
   "outputs": [
    {
     "data": {
      "text/plain": [
       "DatasetDict({\n",
       "    train: Dataset({\n",
       "        features: ['context_messages', 'winner'],\n",
       "        num_rows: 75414\n",
       "    })\n",
       "})"
      ]
     },
     "execution_count": 21,
     "metadata": {},
     "output_type": "execute_result"
    }
   ],
   "source": [
    "ds"
   ]
  },
  {
   "cell_type": "code",
   "execution_count": null,
   "metadata": {},
   "outputs": [
    {
     "data": {
      "text/plain": [
       "{'context_messages': [{'content': \"Please act as an impartial judge and evaluate the quality of the responses provided by two AI chatbots to the client question displayed below. Begin your evaluation by first generating the rubric items. Enclose this section within <rubric> and </rubric> tags. Then, compare the following two conversations between the client and the AI chatbots, and provide your evaluation according to the rubric items. Ensure that the order in which the responses are presented does not influence your decision, and do not let response length or chatbot names affect your evaluation. Be as objective as possible. Enclose your complete evaluation explanation and final verdict within <eval> and </eval> tags. After providing your explanation, output your final verdict by strictly following this format: '[[A]]' if Chatbot A is better, '[[B]]' if Chatbot B is better.i.e., <rubric>rubric items here</rubric>\\n\\n<eval>detailed evaluation here according to the rubric items</eval>\\n\\n<answer>[[A/B]]</answer>\",\n",
       "   'role': 'system'},\n",
       "  {'content': '[Client Question]\\nI was reading up on the Fibonacci Sequence,  $1,1,2,3,5,8,13,\\\\ldots $  when I noticed some were able to calculate specific numbers. So far I\\'ve only figured out creating an array and counting to the value, which is incredibly simple, but I reckon I can\\'t find any formula for calculating a Fibonacci number based on it\\'s position. \\n Is there a way to do this? If so, how are we able to apply these formulas to arrays? \\n\\n\\n[The Start of Chatbot A\\'s Answer]\\nWikipedia has a closed-form function called \" Binet\\'s formula \". \\n $$F\\\\left(n\\\\right) = {{\\\\varphi^n-(1-\\\\varphi)^n} \\\\over {\\\\sqrt 5}}$$ \\n This is based on the Golden Ratio. \\n\\n[The End of Chatbot A\\'s Answer]\\n\\n[The Start of Chatbot B\\'s Answer]\\nThis is an old post, but still... The relation \\n $$\\nF_0=1, F_1 =1, F_n = F_{n-1}+F_{n-2}, n \\\\ge 2\\n$$ \\n defines a linear second order homogeneous difference equation. The solution can be found after computing the roots of the associated characteristic polynomial  $p(\\\\lambda)=\\\\lambda^2-\\\\lambda -1$ , which are  $\\\\lambda = \\\\frac{1 \\\\pm \\\\sqrt{5}}{2}$ . The general solution is then given by\\n $$\\nF_n= C_1 \\\\left(\\\\frac{1 + \\\\sqrt{5}}{2} \\\\right)^n + C_2 \\\\left(\\\\frac{1 - \\\\sqrt{5}}{2} \\\\right)^n\\n$$ \\n and the constants  $C_1, C_2$  are computed knowing that  $F_0 = F_1 = 1$ . so, finally,\\n $$\\nF_n= \\\\frac{1}{\\\\sqrt{5}} \\\\left(\\\\frac{1 + \\\\sqrt{5}}{2} \\\\right)^n - \\\\frac{1}{\\\\sqrt{5}} \\\\left(\\\\frac{1 - \\\\sqrt{5}}{2} \\\\right)^n\\n$$ \\n This is obviously equivalent to Binet\\'s formula, but provides a general process to deal with linear recurrences. \\n\\n[The End of Chatbot B\\'s Answer]',\n",
       "   'role': 'user'}],\n",
       " 'winner': 'model_a'}"
      ]
     },
     "execution_count": 6,
     "metadata": {},
     "output_type": "execute_result"
    }
   ],
   "source": [
    "ds['train'][0]"
   ]
  },
  {
   "cell_type": "code",
   "execution_count": 13,
   "metadata": {},
   "outputs": [],
   "source": [
    "SFT_SYSTEM =( \"Please act as an impartial judge and evaluate the quality of the responses provided by two AI chatbots. \"\n",
    "            \"You should choose the chatbot that follows the client's instructions and answers the client's question better. \"\n",
    "            \"Do not allow the length of the responses to influence your evaluation. Do not favor certain names \"\n",
    "            \"of the chatbots. Be as objective as possible. Output your final verdict directly by strictly following this format: \"\n",
    "            '\"A\" if Chatbot A is better, \"B\" if Chatbot B is better.')"
   ]
  },
  {
   "cell_type": "code",
   "execution_count": 14,
   "metadata": {},
   "outputs": [
    {
     "data": {
      "text/plain": [
       "'Please act as an impartial judge and evaluate the quality of the responses provided by two AI chatbots. You should choose the chatbot that follows the client\\'s instructions and answers the client\\'s question better. Do not allow the length of the responses to influence your evaluation. Do not favor certain names of the chatbots. Be as objective as possible. Output your final verdict directly by strictly following this format: \"A\" if Chatbot A is better, \"B\" if Chatbot B is better.'"
      ]
     },
     "execution_count": 14,
     "metadata": {},
     "output_type": "execute_result"
    }
   ],
   "source": [
    "SFT_SYSTEM"
   ]
  },
  {
   "cell_type": "code",
   "execution_count": 22,
   "metadata": {},
   "outputs": [],
   "source": [
    "sft_ds = []\n",
    "\n",
    "content_messages = []\n",
    "winner = []\n",
    "for item in ds['train']:\n",
    "    copy_item = deepcopy(item)\n",
    "    assert copy_item['context_messages'][0]['role'] == \"system\", \"Not system first\"\n",
    "    copy_item['context_messages'][0]['content'] = SFT_SYSTEM \n",
    "    if copy_item[\"winner\"] == \"model_a\":\n",
    "        copy_item['winner'] = \"A\" \n",
    "    elif copy_item['winner'] == \"model_b\":\n",
    "        copy_item['winner'] = \"B\"\n",
    "    else:\n",
    "        raise NotImplementedError(\"Check your winner\")  \n",
    "    content_messages.append(copy_item['context_messages'])\n",
    "    winner.append(copy_item['winner'])\n",
    "    sft_ds.append(copy_item)"
   ]
  },
  {
   "cell_type": "code",
   "execution_count": 23,
   "metadata": {},
   "outputs": [],
   "source": [
    "\n",
    "sft_dataset = Dataset.from_dict({\n",
    "        'context_messages': content_messages,\n",
    "        'winner': winner\n",
    "    })"
   ]
  },
  {
   "cell_type": "code",
   "execution_count": 24,
   "metadata": {},
   "outputs": [
    {
     "data": {
      "text/plain": [
       "Dataset({\n",
       "    features: ['context_messages', 'winner'],\n",
       "    num_rows: 75414\n",
       "})"
      ]
     },
     "execution_count": 24,
     "metadata": {},
     "output_type": "execute_result"
    }
   ],
   "source": [
    "sft_dataset"
   ]
  },
  {
   "cell_type": "code",
   "execution_count": 25,
   "metadata": {},
   "outputs": [
    {
     "data": {
      "text/plain": [
       "{'context_messages': [{'content': 'Please act as an impartial judge and evaluate the quality of the responses provided by two AI chatbots. You should choose the chatbot that follows the client\\'s instructions and answers the client\\'s question better. Do not allow the length of the responses to influence your evaluation. Do not favor certain names of the chatbots. Be as objective as possible. Output your final verdict directly by strictly following this format: \"A\" if Chatbot A is better, \"B\" if Chatbot B is better.',\n",
       "   'role': 'system'},\n",
       "  {'content': '[Client Question]\\nI was reading up on the Fibonacci Sequence,  $1,1,2,3,5,8,13,\\\\ldots $  when I noticed some were able to calculate specific numbers. So far I\\'ve only figured out creating an array and counting to the value, which is incredibly simple, but I reckon I can\\'t find any formula for calculating a Fibonacci number based on it\\'s position. \\n Is there a way to do this? If so, how are we able to apply these formulas to arrays? \\n\\n\\n[The Start of Chatbot A\\'s Answer]\\nWikipedia has a closed-form function called \" Binet\\'s formula \". \\n $$F\\\\left(n\\\\right) = {{\\\\varphi^n-(1-\\\\varphi)^n} \\\\over {\\\\sqrt 5}}$$ \\n This is based on the Golden Ratio. \\n\\n[The End of Chatbot A\\'s Answer]\\n\\n[The Start of Chatbot B\\'s Answer]\\nThis is an old post, but still... The relation \\n $$\\nF_0=1, F_1 =1, F_n = F_{n-1}+F_{n-2}, n \\\\ge 2\\n$$ \\n defines a linear second order homogeneous difference equation. The solution can be found after computing the roots of the associated characteristic polynomial  $p(\\\\lambda)=\\\\lambda^2-\\\\lambda -1$ , which are  $\\\\lambda = \\\\frac{1 \\\\pm \\\\sqrt{5}}{2}$ . The general solution is then given by\\n $$\\nF_n= C_1 \\\\left(\\\\frac{1 + \\\\sqrt{5}}{2} \\\\right)^n + C_2 \\\\left(\\\\frac{1 - \\\\sqrt{5}}{2} \\\\right)^n\\n$$ \\n and the constants  $C_1, C_2$  are computed knowing that  $F_0 = F_1 = 1$ . so, finally,\\n $$\\nF_n= \\\\frac{1}{\\\\sqrt{5}} \\\\left(\\\\frac{1 + \\\\sqrt{5}}{2} \\\\right)^n - \\\\frac{1}{\\\\sqrt{5}} \\\\left(\\\\frac{1 - \\\\sqrt{5}}{2} \\\\right)^n\\n$$ \\n This is obviously equivalent to Binet\\'s formula, but provides a general process to deal with linear recurrences. \\n\\n[The End of Chatbot B\\'s Answer]',\n",
       "   'role': 'user'}],\n",
       " 'winner': 'A'}"
      ]
     },
     "execution_count": 25,
     "metadata": {},
     "output_type": "execute_result"
    }
   ],
   "source": [
    "sft_dataset[0]"
   ]
  },
  {
   "cell_type": "code",
   "execution_count": 26,
   "metadata": {},
   "outputs": [
    {
     "data": {
      "application/vnd.jupyter.widget-view+json": {
       "model_id": "25c50226b59640899fb9d661b63013d0",
       "version_major": 2,
       "version_minor": 0
      },
      "text/plain": [
       "Uploading the dataset shards:   0%|          | 0/1 [00:00<?, ?it/s]"
      ]
     },
     "metadata": {},
     "output_type": "display_data"
    },
    {
     "data": {
      "application/vnd.jupyter.widget-view+json": {
       "model_id": "1160e52f29604042a0c9eef6e9280196",
       "version_major": 2,
       "version_minor": 0
      },
      "text/plain": [
       "Creating parquet from Arrow format:   0%|          | 0/76 [00:00<?, ?ba/s]"
      ]
     },
     "metadata": {},
     "output_type": "display_data"
    },
    {
     "data": {
      "text/plain": [
       "CommitInfo(commit_url='https://huggingface.co/datasets/gaotang/sky_v02_filtered_2_5kcode_18kmath_math_code_sky_sft/commit/a2603228dd4bc84ec9ef2685abbb716ea227d8c3', commit_message='Upload dataset', commit_description='', oid='a2603228dd4bc84ec9ef2685abbb716ea227d8c3', pr_url=None, repo_url=RepoUrl('https://huggingface.co/datasets/gaotang/sky_v02_filtered_2_5kcode_18kmath_math_code_sky_sft', endpoint='https://huggingface.co', repo_type='dataset', repo_id='gaotang/sky_v02_filtered_2_5kcode_18kmath_math_code_sky_sft'), pr_revision=None, pr_num=None)"
      ]
     },
     "execution_count": 26,
     "metadata": {},
     "output_type": "execute_result"
    }
   ],
   "source": [
    "sft_dataset.push_to_hub(\"gaotang/sky_v02_filtered_2_5kcode_18kmath_math_code_sky_sft\")"
   ]
  }
 ],
 "metadata": {
  "kernelspec": {
   "display_name": "base",
   "language": "python",
   "name": "python3"
  },
  "language_info": {
   "codemirror_mode": {
    "name": "ipython",
    "version": 3
   },
   "file_extension": ".py",
   "mimetype": "text/x-python",
   "name": "python",
   "nbconvert_exporter": "python",
   "pygments_lexer": "ipython3",
   "version": "3.12.7"
  }
 },
 "nbformat": 4,
 "nbformat_minor": 2
}
